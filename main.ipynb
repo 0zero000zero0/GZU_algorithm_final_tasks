{
 "cells": [
  {
   "cell_type": "code",
   "execution_count": 25,
   "metadata": {},
   "outputs": [],
   "source": [
    "class sovler:\n",
    "    def __init__(self) -> None:\n",
    "        self.steps = []\n",
    "        self.current_step = 0\n",
    "        self.result = []\n",
    "\n",
    "    def clear(self):\n",
    "        self.steps = []\n",
    "        self.result = []"
   ]
  },
  {
   "cell_type": "code",
   "execution_count": 26,
   "metadata": {},
   "outputs": [],
   "source": [
    "import numpy as np\n",
    "\n",
    "class cloest_pair_points_solver(sovler):\n",
    "    def __init__(self) -> None:\n",
    "        super().__init__()\n",
    "        self.mids = []\n",
    "        self.result=[]\n",
    "\n",
    "    def distance(self, p1, p2):\n",
    "        return np.sqrt((p1[0] - p2[0])**2 + (p1[1] - p2[1])**2)\n",
    "\n",
    "    def brute_force(self, points):\n",
    "        min_dist = float('inf')\n",
    "        closest_pair = (None, None)\n",
    "        n = len(points)\n",
    "        for i in range(n):\n",
    "            for j in range(i + 1, n):\n",
    "                dist = self.distance(points[i], points[j])\n",
    "                # self.steps.append((points[i], points[j], dist))\n",
    "                if dist < min_dist:\n",
    "                    min_dist = dist\n",
    "                    closest_pair = (points[i], points[j])\n",
    "\n",
    "        # self.result.append((closest_pair, min_dist))\n",
    "        return closest_pair, min_dist\n",
    "\n",
    "    def divide_and_conquer(self, points):\n",
    "        n = len(points)\n",
    "        if n < 3:\n",
    "            # 使用蛮力法解决小规模问题\n",
    "            min_dist = float('inf')\n",
    "            closest_pair = (None, None)\n",
    "            for i in range(n):\n",
    "                for j in range(i + 1, n):\n",
    "                    dist = self.distance(points[i], points[j])\n",
    "                    self.steps.append((points[i], points[j], dist))\n",
    "                    if dist < min_dist:\n",
    "                        min_dist = dist\n",
    "                        closest_pair = (points[i], points[j])\n",
    "            if min_dist != float('inf'):\n",
    "                self.result.append((closest_pair, min_dist))\n",
    "            return closest_pair, min_dist\n",
    "        mid = n // 2\n",
    "        mid_point = points[mid]\n",
    "        self.mids.append(mid_point)\n",
    "        left_points = points[:mid]\n",
    "        right_points = points[mid:]\n",
    "        # 递归解决左右子集\n",
    "        left_closest_pair, left_min_dist = self.divide_and_conquer(left_points)\n",
    "        right_closest_pair, right_min_dist = self.divide_and_conquer(\n",
    "            right_points)\n",
    "\n",
    "        # 找到左右子集的最近点对\n",
    "        if left_min_dist < right_min_dist:\n",
    "            min_dist = left_min_dist\n",
    "            closest_pair = left_closest_pair\n",
    "        else:\n",
    "            min_dist = right_min_dist\n",
    "            closest_pair = right_closest_pair\n",
    "\n",
    "        # 检查跨越分割线的点对\n",
    "        strip = []\n",
    "        for i in range(n):\n",
    "            if abs(points[i][0] - mid_point[0]) < min_dist:\n",
    "                strip.append(points[i])\n",
    "\n",
    "        # 以y坐标排序\n",
    "        strip.sort(key=lambda point: point[1])\n",
    "        for i in range(len(strip)):\n",
    "            for j in range(i + 1, len(strip)):\n",
    "                if strip[j][1] - strip[i][1] >= min_dist:\n",
    "                    break\n",
    "                dist = self.distance(strip[i], strip[j])\n",
    "                # self.steps.append((strip[i], strip[j], dist))\n",
    "                if dist < min_dist:\n",
    "                    min_dist = dist\n",
    "                    closest_pair = (strip[i], strip[j])\n",
    "        # self.result.append((closest_pair, min_dist))\n",
    "        return closest_pair, min_dist\n",
    "\n",
    "    def closest_pair(self, points):\n",
    "        points.sort(key=lambda point: point[0])\n",
    "        result = self.divide_and_conquer(points)\n",
    "        self.result.sort(key=lambda x: x[1])\n",
    "        self.result = self.result[0]\n",
    "        return result\n",
    "\n",
    "    def clear(self):\n",
    "        self.steps = []\n",
    "        self.result = []\n",
    "        self.mids = []"
   ]
  },
  {
   "cell_type": "code",
   "execution_count": 27,
   "metadata": {},
   "outputs": [],
   "source": [
    "from time import perf_counter_ns as pcns\n",
    "import random"
   ]
  },
  {
   "cell_type": "code",
   "execution_count": 28,
   "metadata": {},
   "outputs": [],
   "source": [
    "solover= cloest_pair_points_solver()\n",
    "epochs = 10\n",
    "num_points=[100,500,1000,5000,10000,50000,100000]\n",
    "points_limt = [n*2 for n in num_points]\n",
    "brute_force_time = [0]*len(num_points)\n",
    "divide_and_conquer_time = [0]*len(num_points)"
   ]
  },
  {
   "cell_type": "code",
   "execution_count": 29,
   "metadata": {},
   "outputs": [
    {
     "name": "stdout",
     "output_type": "stream",
     "text": [
      "epoch=0\n",
      "num_points[i]=100\n",
      "暴力法开始\t暴力法结束\t分治法开始\t分治法结束\n",
      "num_points[i]=500\n",
      "暴力法开始\t暴力法结束\t分治法开始\t分治法结束\n",
      "num_points[i]=1000\n",
      "暴力法开始\t暴力法结束\t分治法开始\t分治法结束\n",
      "num_points[i]=5000\n",
      "暴力法开始\t暴力法结束\t分治法开始\t分治法结束\n",
      "num_points[i]=10000\n",
      "暴力法开始\t暴力法结束\t分治法开始\t分治法结束\n",
      "num_points[i]=50000\n",
      "暴力法开始\t"
     ]
    }
   ],
   "source": [
    "for epoch in range(epochs):\n",
    "    print(f\"{epoch=}\")\n",
    "    for i in range(len(num_points)):\n",
    "        print(f\"{num_points[i]=}\", end='\\n')\n",
    "        points = [(random.randint(0, points_limt[i]), random.randint(0, points_limt[i]))\n",
    "                  for _ in range(num_points[i])]\n",
    "        print(f'暴力法开始', end='\\t')\n",
    "        brute_force_start = pcns()\n",
    "        solover.brute_force(points)\n",
    "        brute_force_end = pcns()\n",
    "        print(f'暴力法结束', end='\\t')\n",
    "        solover.clear()\n",
    "        brute_force_time[i] += (brute_force_end-brute_force_start)\n",
    "\n",
    "        print(f\"分治法开始\", end='\\t')\n",
    "        divide_and_conquer_start = pcns()\n",
    "        solover.closest_pair(points)\n",
    "        divide_and_conquer_end = pcns()\n",
    "        print(f\"分治法结束\",)\n",
    "        solover.clear()\n",
    "        divide_and_conquer_time[i] += (divide_and_conquer_end -\n",
    "                                       divide_and_conquer_start)\n",
    "\n",
    "brute_force_time = [t/epochs*1e-6 for t in brute_force_time]\n",
    "divide_and_conquer_time = [t/epochs*1e-6 for t in divide_and_conquer_time]"
   ]
  },
  {
   "cell_type": "code",
   "execution_count": null,
   "metadata": {},
   "outputs": [],
   "source": [
    "brute_force_time, divide_and_conquer_time"
   ]
  },
  {
   "cell_type": "code",
   "execution_count": null,
   "metadata": {},
   "outputs": [],
   "source": [
    "print(f\"n\\t\\t\\tbrute_force\\t\\t\\tdivide_and_conquer\")\n",
    "for i in range(len(num_points)):\n",
    "    print(\n",
    "        f\"{num_points[i]}\\t\\t\\t{brute_force_time[i]:8f}\\t\\t\\t{divide_and_conquer_time[i]:8f}\")"
   ]
  }
 ],
 "metadata": {
  "kernelspec": {
   "display_name": "Python 3",
   "language": "python",
   "name": "python3"
  },
  "language_info": {
   "codemirror_mode": {
    "name": "ipython",
    "version": 3
   },
   "file_extension": ".py",
   "mimetype": "text/x-python",
   "name": "python",
   "nbconvert_exporter": "python",
   "pygments_lexer": "ipython3",
   "version": "3.12.3"
  }
 },
 "nbformat": 4,
 "nbformat_minor": 2
}
