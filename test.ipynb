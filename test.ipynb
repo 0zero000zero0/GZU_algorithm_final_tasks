{
 "cells": [
  {
   "cell_type": "code",
   "execution_count": 1,
   "metadata": {},
   "outputs": [],
   "source": [
    "def is_left_turn( a, b, c):\n",
    "    '''\n",
    "    判断c是否在直线ab的左侧\n",
    "    '''\n",
    "    return (b[0] - a[0]) * (c[1] - a[1]) - (b[1] - a[1]) * (c[0] - a[0]) > 0\n",
    "\n",
    "def is_right_turn( a, b, c):\n",
    "    '''\n",
    "    判断p3是否在直线p1p2的右侧\n",
    "    '''\n",
    "    return (b[0] - a[0]) * (c[1] - a[1]) - (b[1] - a[1]) * (c[0] - a[0]) < 0\n"
   ]
  },
  {
   "cell_type": "markdown",
   "metadata": {},
   "source": [
    "# 凸包"
   ]
  },
  {
   "cell_type": "code",
   "execution_count": 2,
   "metadata": {},
   "outputs": [],
   "source": [
    "import itertools\n",
    "import sys\n",
    "def is_left_turn( a, b, c):\n",
    "    '''\n",
    "    判断c是否在直线ab的左侧\n",
    "    '''\n",
    "    return (b[0] - a[0]) * (c[1] - a[1]) - (b[1] - a[1]) * (c[0] - a[0]) > 0\n",
    "\n",
    "def is_right_turn( a, b, c):\n",
    "    '''\n",
    "    判断p3是否在直线p1p2的右侧\n",
    "    '''\n",
    "    return (b[0] - a[0]) * (c[1] - a[1]) - (b[1] - a[1]) * (c[0] - a[0]) < 0\n",
    "def brute_force( points):\n",
    "    hull = []\n",
    "    n = len(points)\n",
    "\n",
    "    def is_all_left(i, j):\n",
    "        for k in points:\n",
    "            if k != i and k != j:\n",
    "                if not is_left_turn(i, j, k):\n",
    "                    return False\n",
    "        return True\n",
    "\n",
    "    def is_all_right(i, j):\n",
    "        for k in points:\n",
    "            if k != i and k != j:\n",
    "                if not  is_right_turn(i, j, k):\n",
    "                    return False\n",
    "        return True\n",
    "    for i, j in itertools.combinations(points, 2):\n",
    "        all_left = is_all_left(i, j)\n",
    "        all_right = is_all_right(i, j)\n",
    "        if all_left or all_right:\n",
    "            hull.append((i, j))\n",
    "    return hull"
   ]
  },
  {
   "cell_type": "code",
   "execution_count": 3,
   "metadata": {},
   "outputs": [],
   "source": [
    "\n",
    "def divide_and_conquer( points):\n",
    "    if len(points) <= 1:\n",
    "        return points\n",
    "    # 按照x 排序\n",
    "    min_point = min(points, key=lambda p: p[0])\n",
    "    max_point = max(points, key=lambda p: p[0])\n",
    "    def distance(p, a, b):\n",
    "        # 点p到直线ab的距离\n",
    "        return abs((b[0] - a[0]) * (a[1] - p[1]) - (a[0] - p[0]) * (b[1] - a[1]))\n",
    "    def find_hull(points, p1, p2):\n",
    "        # 在p1p2左侧的点集找凸包\n",
    "        if len(points)==0:\n",
    "            return []\n",
    "        farthest_point = max(points, key=lambda p: distance(p, p1, p2))\n",
    "        left_set_p1_farthest = [\n",
    "            p for p in points if is_left_turn(p1, farthest_point, p)]\n",
    "        left_set_farthest_p2 = [\n",
    "            p for p in points if is_left_turn(farthest_point, p2, p)]\n",
    "        hull = find_hull(left_set_p1_farthest, p1, farthest_point) + \\\n",
    "            [farthest_point] + \\\n",
    "            find_hull(left_set_farthest_p2, farthest_point, p2)\n",
    "        return hull\n",
    "    left_set = [p for p in points if is_left_turn(\n",
    "        min_point, max_point, p)]\n",
    "    right_set = [p for p in points if is_left_turn(\n",
    "        max_point, min_point, p)]\n",
    "\n",
    "    hull = [min_point] + find_hull(left_set, min_point, max_point) + [\n",
    "        max_point] + find_hull(right_set, max_point, min_point)\n",
    "    return hull  # hull存储了最终凸包的所有点"
   ]
  },
  {
   "cell_type": "code",
   "execution_count": 4,
   "metadata": {},
   "outputs": [],
   "source": [
    "from time import perf_counter_ns as pcns\n",
    "import random"
   ]
  },
  {
   "cell_type": "code",
   "execution_count": 5,
   "metadata": {},
   "outputs": [],
   "source": [
    "epochs = 10\n",
    "num_points=[100,500,1000,5000,10000,50000,100000]\n",
    "points_limt= [n*2 for n in num_points]\n",
    "brute_force_time=[0]*len(num_points)\n",
    "divide_and_conquer_time = [0]*len(num_points)"
   ]
  },
  {
   "cell_type": "code",
   "execution_count": 6,
   "metadata": {},
   "outputs": [
    {
     "name": "stdout",
     "output_type": "stream",
     "text": [
      "epoch=0\n",
      "num_points[i]=100\n",
      "暴力法开始\t暴力法结束\t分治法开始\t分治法结束\n",
      "num_points[i]=500\n",
      "暴力法开始\t暴力法结束\t分治法开始\t分治法结束\n",
      "num_points[i]=1000\n",
      "暴力法开始\t暴力法结束\t分治法开始\t分治法结束\n",
      "num_points[i]=5000\n",
      "暴力法开始\t暴力法结束\t分治法开始\t分治法结束\n",
      "num_points[i]=10000\n",
      "暴力法开始\t暴力法结束\t分治法开始\t分治法结束\n",
      "num_points[i]=50000\n",
      "暴力法开始\t"
     ]
    }
   ],
   "source": [
    "for epoch in range(epochs):\n",
    "    print(f\"{epoch=}\")\n",
    "    for i in range(len(num_points)):\n",
    "        print(f\"{num_points[i]=}\",end='\\n')\n",
    "        points = [(random.randint(0, points_limt[i]), random.randint(0, points_limt[i]))\n",
    "                for _ in range(num_points[i])]\n",
    "        print(f'暴力法开始',end='\\t')\n",
    "        brute_force_start=pcns()\n",
    "        brute_force(points)\n",
    "        brute_force_end=pcns()\n",
    "        print(f'暴力法结束',end='\\t')\n",
    "        brute_force_time[i]+=(brute_force_end-brute_force_start)\n",
    "\n",
    "        print(f\"分治法开始\",end='\\t')\n",
    "        divide_and_conquer_start=pcns()\n",
    "        divide_and_conquer(points)\n",
    "        divide_and_conquer_end=pcns()\n",
    "        print(f\"分治法结束\",)\n",
    "        divide_and_conquer_time[i]+=(divide_and_conquer_end-divide_and_conquer_start)\n",
    "\n",
    "brute_force_time=[t/epochs*1e-6 for t in brute_force_time]\n",
    "divide_and_conquer_time=[t/epochs*1e-6 for t in divide_and_conquer_time]\n"
   ]
  },
  {
   "cell_type": "code",
   "execution_count": null,
   "metadata": {},
   "outputs": [
    {
     "data": {
      "text/plain": [
       "([0.055209999999999995, 7.9287, 801.9090199999999, 78078.90681999999],\n",
       " [0.01877, 0.16255, 1.50325, 13.60827])"
      ]
     },
     "execution_count": 38,
     "metadata": {},
     "output_type": "execute_result"
    }
   ],
   "source": [
    "brute_force_time, divide_and_conquer_time"
   ]
  },
  {
   "cell_type": "code",
   "execution_count": null,
   "metadata": {},
   "outputs": [
    {
     "name": "stdout",
     "output_type": "stream",
     "text": [
      "n\t\t\tbrute_force\t\t\tdivide_and_conquer\n",
      "10\t\t\t0.055210\t\t\t0.018770\n",
      "100\t\t\t7.928700\t\t\t0.162550\n",
      "1000\t\t\t801.909020\t\t\t1.503250\n",
      "10000\t\t\t78078.906820\t\t\t13.608270\n"
     ]
    }
   ],
   "source": [
    "print(f\"n\\t\\t\\tbrute_force\\t\\t\\tdivide_and_conquer\")\n",
    "for i in range(len(num_points)):\n",
    "    print(\n",
    "        f\"{num_points[i]}\\t\\t\\t{brute_force_time[i]:8f}\\t\\t\\t{divide_and_conquer_time[i]:8f}\")"
   ]
  }
 ],
 "metadata": {
  "kernelspec": {
   "display_name": "Python 3",
   "language": "python",
   "name": "python3"
  },
  "language_info": {
   "codemirror_mode": {
    "name": "ipython",
    "version": 3
   },
   "file_extension": ".py",
   "mimetype": "text/x-python",
   "name": "python",
   "nbconvert_exporter": "python",
   "pygments_lexer": "ipython3",
   "version": "3.12.3"
  }
 },
 "nbformat": 4,
 "nbformat_minor": 2
}
